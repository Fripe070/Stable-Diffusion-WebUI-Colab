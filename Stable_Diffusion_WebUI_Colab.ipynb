{
  "cells": [
    {
      "cell_type": "markdown",
      "metadata": {
        "id": "view-in-github",
        "colab_type": "text"
      },
      "source": [
        "<a href=\"https://colab.research.google.com/github/Fripe070/Stable-Diffusion-WebUI-Colab/blob/main/Stable_Diffusion_WebUI_Colab.ipynb\" target=\"_parent\"><img src=\"https://colab.research.google.com/assets/colab-badge.svg\" alt=\"Open In Colab\"/></a>"
      ]
    },
    {
      "cell_type": "markdown",
      "source": [
        "# Install\n"
      ],
      "metadata": {
        "id": "kWR_e4tbvVU4"
      }
    },
    {
      "cell_type": "markdown",
      "source": [
        "## General setup\n"
      ],
      "metadata": {
        "id": "aUwJgmO8TWWG"
      }
    },
    {
      "cell_type": "code",
      "source": [
        "#@markdown ## Initial setup\n",
        "\n",
        "import os\n",
        "from google.colab.output import eval_js\n",
        "os.environ['colab_url'] = eval_js(\"google.colab.kernel.proxyPort(7860, {'cache': false})\")\n",
        "\n",
        "!apt -qq -y update &>/dev/null\n",
        "!wget -nv http://launchpadlibrarian.net/367274644/libgoogle-perftools-dev_2.5-2.2ubuntu3_amd64.deb\n",
        "!wget -nv https://launchpad.net/ubuntu/+source/google-perftools/2.5-2.2ubuntu3/+build/14795286/+files/google-perftools_2.5-2.2ubuntu3_all.deb\n",
        "!wget -nv https://launchpad.net/ubuntu/+source/google-perftools/2.5-2.2ubuntu3/+build/14795286/+files/libtcmalloc-minimal4_2.5-2.2ubuntu3_amd64.deb\n",
        "!wget -nv https://launchpad.net/ubuntu/+source/google-perftools/2.5-2.2ubuntu3/+build/14795286/+files/libgoogle-perftools4_2.5-2.2ubuntu3_amd64.deb\n",
        "!apt -qq install libunwind8-dev &>/dev/null\n",
        "!dpkg -i *.deb &>/dev/null\n",
        "%env LD_PRELOAD=libtcmalloc.so\n",
        "!rm *.deb\n",
        "\n",
        "!pip install torch==1.13.1+cu116 torchvision==0.14.1+cu116 torchaudio==0.13.1 --extra-index-url https://download.pytorch.org/whl/cu116 -U\n",
        "!apt -qq -y install aria2 &>/dev/null\n",
        "!apt -qq install unzip &>/dev/null\n",
        "!pip install -q --pre xformers==0.0.17.dev476 -U\n",
        "!pip install -q --pre triton\n"
      ],
      "metadata": {
        "cellView": "form",
        "id": "g-G_1U9twOi4"
      },
      "execution_count": null,
      "outputs": []
    },
    {
      "cell_type": "code",
      "source": [
        "#@markdown ## Download WebUI\n",
        "\n",
        "#!git clone -b v2.0 https://github.com/camenduru/stable-diffusion-webui\n",
        "!git clone https://github.com/AUTOMATIC1111/stable-diffusion-webui\n",
        "\n",
        "%cd /content/stable-diffusion-webui\n",
        "!git reset --hard\n",
        "# I have absolutely 0 clue why this is here but it's probably important lmao\n",
        "!sed -i -e '''/    prepare_environment()/a\\    os.system\\(f\\\"\"\"sed -i -e ''\\\"s/dict()))/dict())).cuda()/g\\\"'' /content/stable-diffusion-webui/repositories/stable-diffusion-stability-ai/ldm/util.py\"\"\")''' /content/stable-diffusion-webui/launch.py\n"
      ],
      "metadata": {
        "cellView": "form",
        "id": "t3dEJxivExZ5"
      },
      "execution_count": null,
      "outputs": []
    },
    {
      "cell_type": "code",
      "source": [
        "#@markdown ## Define helper functions\n",
        "import json\n",
        "import re\n",
        "import shlex\n",
        "import subprocess\n",
        "from pathlib import Path\n",
        "from typing import Optional, Union\n",
        "from urllib.parse import unquote_plus, urlparse\n",
        "from urllib.request import urlopen\n",
        "\n",
        "config_path = Path(\"/content/stable-diffusion-webui/config.json\")\n",
        "ui_config_path = Path(\"/content/stable-diffusion-webui/ui-config.json\")\n",
        "\n",
        "\n",
        "def load_config() -> dict:\n",
        "    with open(config_path, \"r\") as file:\n",
        "        return json.load(file)\n",
        "\n",
        "\n",
        "def save_config(config: dict, /) -> None:\n",
        "    with open(config_path, \"w\") as file:\n",
        "        json.dump(config, file)\n",
        "\n",
        "\n",
        "def load_sd_config() -> dict:\n",
        "    with open(ui_config_path, \"r\") as file:\n",
        "        return json.load(file)\n",
        "\n",
        "\n",
        "def save_ui_config(ui_config: dict, /) -> None:\n",
        "    with open(ui_config_path, \"w\") as file:\n",
        "        json.dump(ui_config, file)\n",
        "\n",
        "\n",
        "def get_model_filename_from_url(url: str) -> str:\n",
        "    parsed_url = urlparse(unquote_plus(model_url))\n",
        "\n",
        "    if parsed_url.netloc == \"civitai.com\":\n",
        "        model_id = re.search(r\"models/(\\d+)\", parsed_url.path).groups()[0]\n",
        "        model_data = json.loads(urlopen(f\"https://civitai.com/api/v1/models/{model_id}\").read())\n",
        "\n",
        "        return model_data[\"modelVersions\"][0][\"files\"][0][\"name\"]\n",
        "    else:\n",
        "        return Path(parsed_url.path).name\n",
        "\n",
        "\n",
        "def download_model_from_url(url: str, *, models_path: Union[Path, str], model_filename: Optional[str] = None) -> None:\n",
        "    if isinstance(model_filename, str):\n",
        "        model_filename = model_filename.strip().replace(\" \", \"-\")\n",
        "\n",
        "    if not model_filename:\n",
        "        model_filename = get_model_filename_from_url(url)\n",
        "    print(f\"Saving model with name: {model_filename}\")\n",
        "\n",
        "    save_to = Path(models_path) / model_filename\n",
        "\n",
        "    cmd = shlex.split(\n",
        "        f'aria2c --console-log-level=error -c -x 16 -s 16 -k 1M \"{url}\" -d \"{save_to.parent}\" -o \"{save_to.name}\"'\n",
        "    )\n",
        "    subprocess.run(cmd)\n",
        "    print(f\"Saved model to: {models_path}/{model_filename}\")\n"
      ],
      "metadata": {
        "cellView": "form",
        "id": "_vWBBTOFNfK8"
      },
      "execution_count": null,
      "outputs": []
    },
    {
      "cell_type": "code",
      "source": [
        "#@markdown ## Set default config values\n",
        "save_ui_config(\n",
        "    {\n",
        "        \"txt2img/Sampling steps/value\": 50,\n",
        "        \"img2img/Sampling steps/value\": 50,\n",
        "    }\n",
        ")\n",
        "save_config(\n",
        "    {\n",
        "        \"show_progress_every_n_steps\": 2,\n",
        "        \"live_preview_refresh_period\": 20.0,\n",
        "    }\n",
        ")\n"
      ],
      "metadata": {
        "cellView": "form",
        "id": "DwFeowbyy3Tn"
      },
      "execution_count": null,
      "outputs": []
    },
    {
      "cell_type": "code",
      "source": [
        "#@markdown ## Download extensions\n",
        "\n",
        "# Extensions\n",
        "!wget -q https://raw.githubusercontent.com/camenduru/stable-diffusion-webui-scripts/main/run_n_times.py -O /content/stable-diffusion-webui/scripts/run_n_times.py\n",
        "!git clone https://github.com/AlUlkesh/stable-diffusion-webui-images-browser /content/stable-diffusion-webui/extensions/stable-diffusion-webui-images-browser -q\n",
        "!git clone https://github.com/kohya-ss/sd-webui-additional-networks /content/stable-diffusion-webui/extensions/sd-webui-additional-networks -q\n",
        "!git clone https://github.com/camenduru/sd-webui-tunnels /content/stable-diffusion-webui/extensions/sd-webui-tunnels -q\n",
        "\n",
        "# Extensions added by fripe\n",
        "!git clone https://github.com/alemelis/sd-webui-ar.git /content/stable-diffusion-webui/extensions/sd-webui-ar -q\n",
        "!git clone https://github.com/toriato/stable-diffusion-webui-wd14-tagger.git /content/stable-diffusion-webui/extensions/stable-diffusion-webui-wd14-tagger -q\n",
        "!git clone https://github.com/dfaker/SD-latent-mirroring.git /content/stable-diffusion-webui/extensions/SD-latent-mirroring -q\n"
      ],
      "metadata": {
        "cellView": "form",
        "id": "0ZemlUoksWcg"
      },
      "execution_count": null,
      "outputs": []
    },
    {
      "cell_type": "markdown",
      "source": [
        "## Other extensions\n",
        "You may not need/want all these, so you can pick and choose induvidualy.\n"
      ],
      "metadata": {
        "id": "R8jDcYpbOYCs"
      }
    },
    {
      "cell_type": "code",
      "source": [
        "#@markdown ### [ControlNet Extension](https://github.com/Mikubill/sd-webui-controlnet)\n",
        "#@markdown Allows extra control of generated images, by enforcing certain constraints\n",
        "\n",
        "# Extensions\n",
        "!git clone https://github.com/Mikubill/sd-webui-controlnet /content/stable-diffusion-webui/extensions/sd-webui-controlnet -q\n",
        "!git clone https://github.com/camenduru/openpose-editor /content/stable-diffusion-webui/extensions/openpose-editor -q\n",
        "!git clone https://github.com/jexom/sd-webui-depth-lib /content/stable-diffusion-webui/extensions/sd-webui-depth-lib -q\n",
        "!git clone https://github.com/hnmr293/posex /content/stable-diffusion-webui/extensions/posex -q\n",
        "\n",
        "#M Models\n",
        "!aria2c --console-log-level=error -c -x 16 -s 16 -k 1M https://huggingface.co/ckpt/ControlNet/resolve/main/control_canny-fp16.safetensors -d /content/stable-diffusion-webui/extensions/sd-webui-controlnet/models -o control_canny-fp16.safetensors\n",
        "!aria2c --console-log-level=error -c -x 16 -s 16 -k 1M https://huggingface.co/ckpt/ControlNet/resolve/main/control_depth-fp16.safetensors -d /content/stable-diffusion-webui/extensions/sd-webui-controlnet/models -o control_depth-fp16.safetensors\n",
        "!aria2c --console-log-level=error -c -x 16 -s 16 -k 1M https://huggingface.co/ckpt/ControlNet/resolve/main/control_hed-fp16.safetensors -d /content/stable-diffusion-webui/extensions/sd-webui-controlnet/models -o control_hed-fp16.safetensors\n",
        "!aria2c --console-log-level=error -c -x 16 -s 16 -k 1M https://huggingface.co/ckpt/ControlNet/resolve/main/control_mlsd-fp16.safetensors -d /content/stable-diffusion-webui/extensions/sd-webui-controlnet/models -o control_mlsd-fp16.safetensors\n",
        "!aria2c --console-log-level=error -c -x 16 -s 16 -k 1M https://huggingface.co/ckpt/ControlNet/resolve/main/control_normal-fp16.safetensors -d /content/stable-diffusion-webui/extensions/sd-webui-controlnet/models -o control_normal-fp16.safetensors\n",
        "!aria2c --console-log-level=error -c -x 16 -s 16 -k 1M https://huggingface.co/ckpt/ControlNet/resolve/main/control_openpose-fp16.safetensors -d /content/stable-diffusion-webui/extensions/sd-webui-controlnet/models -o control_openpose-fp16.safetensors\n",
        "!aria2c --console-log-level=error -c -x 16 -s 16 -k 1M https://huggingface.co/ckpt/ControlNet/resolve/main/control_scribble-fp16.safetensors -d /content/stable-diffusion-webui/extensions/sd-webui-controlnet/models -o control_scribble-fp16.safetensors\n",
        "!aria2c --console-log-level=error -c -x 16 -s 16 -k 1M https://huggingface.co/ckpt/ControlNet/resolve/main/control_seg-fp16.safetensors -d /content/stable-diffusion-webui/extensions/sd-webui-controlnet/models -o control_seg-fp16.safetensors\n",
        "!aria2c --console-log-level=error -c -x 16 -s 16 -k 1M https://huggingface.co/ckpt/ControlNet/resolve/main/hand_pose_model.pth -d /content/stable-diffusion-webui/extensions/sd-webui-controlnet/annotator/openpose -o hand_pose_model.pth\n",
        "!aria2c --console-log-level=error -c -x 16 -s 16 -k 1M https://huggingface.co/ckpt/ControlNet/resolve/main/body_pose_model.pth -d /content/stable-diffusion-webui/extensions/sd-webui-controlnet/annotator/openpose -o body_pose_model.pth\n",
        "!aria2c --console-log-level=error -c -x 16 -s 16 -k 1M https://huggingface.co/ckpt/ControlNet/resolve/main/dpt_hybrid-midas-501f0c75.pt -d /content/stable-diffusion-webui/extensions/sd-webui-controlnet/annotator/midas -o dpt_hybrid-midas-501f0c75.pt\n",
        "!aria2c --console-log-level=error -c -x 16 -s 16 -k 1M https://huggingface.co/ckpt/ControlNet/resolve/main/mlsd_large_512_fp32.pth -d /content/stable-diffusion-webui/extensions/sd-webui-controlnet/annotator/mlsd -o mlsd_large_512_fp32.pth\n",
        "!aria2c --console-log-level=error -c -x 16 -s 16 -k 1M https://huggingface.co/ckpt/ControlNet/resolve/main/mlsd_tiny_512_fp32.pth -d /content/stable-diffusion-webui/extensions/sd-webui-controlnet/annotator/mlsd -o mlsd_tiny_512_fp32.pth\n",
        "!aria2c --console-log-level=error -c -x 16 -s 16 -k 1M https://huggingface.co/ckpt/ControlNet/resolve/main/network-bsds500.pth -d /content/stable-diffusion-webui/extensions/sd-webui-controlnet/annotator/hed -o network-bsds500.pth\n",
        "!aria2c --console-log-level=error -c -x 16 -s 16 -k 1M https://huggingface.co/ckpt/ControlNet/resolve/main/upernet_global_small.pth -d /content/stable-diffusion-webui/extensions/sd-webui-controlnet/annotator/uniformer -o upernet_global_small.pth\n",
        "!aria2c --console-log-level=error -c -x 16 -s 16 -k 1M https://huggingface.co/ckpt/ControlNet/resolve/main/t2iadapter_style_sd14v1.pth -d /content/stable-diffusion-webui/extensions/sd-webui-controlnet/models -o t2iadapter_style_sd14v1.pth\n",
        "!aria2c --console-log-level=error -c -x 16 -s 16 -k 1M https://huggingface.co/ckpt/ControlNet/resolve/main/t2iadapter_sketch_sd14v1.pth -d /content/stable-diffusion-webui/extensions/sd-webui-controlnet/models -o t2iadapter_sketch_sd14v1.pth\n",
        "!aria2c --console-log-level=error -c -x 16 -s 16 -k 1M https://huggingface.co/ckpt/ControlNet/resolve/main/t2iadapter_seg_sd14v1.pth -d /content/stable-diffusion-webui/extensions/sd-webui-controlnet/models -o t2iadapter_seg_sd14v1.pth\n",
        "!aria2c --console-log-level=error -c -x 16 -s 16 -k 1M https://huggingface.co/ckpt/ControlNet/resolve/main/t2iadapter_openpose_sd14v1.pth -d /content/stable-diffusion-webui/extensions/sd-webui-controlnet/models -o t2iadapter_openpose_sd14v1.pth\n",
        "!aria2c --console-log-level=error -c -x 16 -s 16 -k 1M https://huggingface.co/ckpt/ControlNet/resolve/main/t2iadapter_keypose_sd14v1.pth -d /content/stable-diffusion-webui/extensions/sd-webui-controlnet/models -o t2iadapter_keypose_sd14v1.pth\n",
        "!aria2c --console-log-level=error -c -x 16 -s 16 -k 1M https://huggingface.co/ckpt/ControlNet/resolve/main/t2iadapter_depth_sd14v1.pth -d /content/stable-diffusion-webui/extensions/sd-webui-controlnet/models -o t2iadapter_depth_sd14v1.pth\n",
        "!aria2c --console-log-level=error -c -x 16 -s 16 -k 1M https://huggingface.co/ckpt/ControlNet/resolve/main/t2iadapter_color_sd14v1.pth -d /content/stable-diffusion-webui/extensions/sd-webui-controlnet/models -o t2iadapter_color_sd14v1.pth\n",
        "!aria2c --console-log-level=error -c -x 16 -s 16 -k 1M https://huggingface.co/ckpt/ControlNet/resolve/main/t2iadapter_canny_sd14v1.pth -d /content/stable-diffusion-webui/extensions/sd-webui-controlnet/models -o t2iadapter_canny_sd14v1.pth\n"
      ],
      "metadata": {
        "cellView": "form",
        "id": "A3A07J_vv_DY"
      },
      "execution_count": null,
      "outputs": []
    },
    {
      "cell_type": "code",
      "source": [
        "#@markdown ### [Deforum Extension](https://github.com/deforum-art/deforum-for-automatic1111-webui)\n",
        "#@markdown Allows for creating interesting animations transitioning between multiple prompts or other parameters. \n",
        "!git clone https://github.com/deforum-art/deforum-for-automatic1111-webui /content/stable-diffusion-webui/extensions/deforum-for-automatic1111-webui -q\n"
      ],
      "metadata": {
        "cellView": "form",
        "id": "JFysDgw-VyYo"
      },
      "execution_count": null,
      "outputs": []
    },
    {
      "cell_type": "code",
      "source": [
        "#@markdown ### [Booru tag autocompletion](https://github.com/DominikDoom/a1111-sd-webui-tagcomplete)\n",
        "#@markdown Provides borru tag completion in the prompt input box\n",
        "!git clone https://github.com/DominikDoom/a1111-sd-webui-tagcomplete.git /content/stable-diffusion-webui/extensions/tag-autocomplete -q\n"
      ],
      "metadata": {
        "cellView": "form",
        "id": "FkEdd3EjPBff"
      },
      "execution_count": null,
      "outputs": []
    },
    {
      "cell_type": "code",
      "source": [
        "#@markdown ### [Stable Diffusion Webui Inspiration](https://github.com/yfszzx/stable-diffusion-webui-inspiration)\n",
        "#@markdown Adds an artstyle moodboard\n",
        "!git clone https://github.com/yfszzx/stable-diffusion-webui-inspiration.git /content/stable-diffusion-webui/extensions/stable-diffusion-webui-inspiration -q\n",
        "\n",
        "# Image dataset\n",
        "!aria2c --console-log-level=error -c -x 16 -s 16 -k 1M https://huggingface.co/datasets/yfszzx/inspiration/resolve/main/inspiration.zip -d /content/stable-diffusion-webui/extensions/stable-diffusion-webui-inspiration/ -o inspiration.zip\n",
        "!unzip -qoO UTF-8 /content/stable-diffusion-webui/extensions/stable-diffusion-webui-inspiration/inspiration.zip -d /content/stable-diffusion-webui/extensions/stable-diffusion-webui-inspiration/\n",
        "!rm /content/stable-diffusion-webui/extensions/stable-diffusion-webui-inspiration/inspiration.zip\n"
      ],
      "metadata": {
        "cellView": "form",
        "id": "7kYn21YdSZoQ"
      },
      "execution_count": null,
      "outputs": []
    },
    {
      "cell_type": "code",
      "source": [
        "#@markdown ### [Dreambooth Extension](https://github.com/d8ahazard/sd_dreambooth_extension)\n",
        "#@markdown Adds a tab allowing you tu use dreambooth to train models on specific people/objects/styles \n",
        "!git clone https://github.com/d8ahazard/sd_dreambooth_extension.git /content/stable-diffusion-webui/extensions/sd_dreambooth_extension -q\n"
      ],
      "metadata": {
        "id": "7d4P7oAYNk2G",
        "cellView": "form"
      },
      "execution_count": null,
      "outputs": []
    },
    {
      "cell_type": "code",
      "source": [
        "#@markdown ### [Stadble Diffusion Civitai Browser](https://github.com/camenduru/sd-civitai-browser)\n",
        "#@markdown An extension to browse Civitai for models\n",
        "!git clone -b v2.0 https://github.com/camenduru/sd-civitai-browser /content/stable-diffusion-webui/extensions/sd-civitai-browser -q\n"
      ],
      "metadata": {
        "cellView": "form",
        "id": "-8XgupNtR6-7"
      },
      "execution_count": null,
      "outputs": []
    },
    {
      "cell_type": "code",
      "source": [
        "#@markdown ### [Steps Animation](https://github.com/vladmandic/sd-extension-steps-animation)\n",
        "#@markdown An extension to create an animation from the sampling steps in your image generation\n",
        "!git clone https://github.com/vladmandic/sd-extension-steps-animation.git /content/stable-diffusion-webui/extensions/sd-extension-steps-animation -q\n"
      ],
      "metadata": {
        "cellView": "form",
        "id": "v_SnQPM2RqOx"
      },
      "execution_count": null,
      "outputs": []
    },
    {
      "cell_type": "code",
      "source": [
        "#@markdown ### [Latent Couple](https://github.com/opparco/stable-diffusion-webui-two-shot)\n",
        "#@markdown Allows including subprompts mapped to different areas of the output image\n",
        "!git clone https://github.com/opparco/stable-diffusion-webui-two-shot /content/stable-diffusion-webui/extensions/stable-diffusion-webui-two-shot -q\n"
      ],
      "metadata": {
        "cellView": "form",
        "id": "yGbniE-JyZMh"
      },
      "execution_count": null,
      "outputs": []
    },
    {
      "cell_type": "markdown",
      "source": [
        "# Download models\n",
        "You most likely **don't** want to run this entire block, instead pick and choose induvidial models to download."
      ],
      "metadata": {
        "id": "9Ki8EHONyDqY"
      }
    },
    {
      "cell_type": "markdown",
      "source": [
        "## VAEs"
      ],
      "metadata": {
        "id": "K40Ih0u1yUmI"
      }
    },
    {
      "cell_type": "markdown",
      "source": [
        "> The VAE encoder compresses the image from pixel space to a smaller dimensional latent space, capturing a more fundamental semantic meaning of the image.\n",
        "\n",
        "\\- [Stable Diffusion Architeture - Wikipedia](https://en.wikipedia.org/wiki/Stable_Diffusion#Architecture)"
      ],
      "metadata": {
        "id": "nk0H11lCNSDn"
      }
    },
    {
      "cell_type": "code",
      "source": [
        "#@markdown ### vae-ft-mse-840000-ema-pruned \n",
        "#@markdown Recommended för GorynichMix\n",
        "!aria2c --console-log-level=error -c -x 16 -s 16 -k 1M https://huggingface.co/stabilityai/sd-vae-ft-mse-original/resolve/main/vae-ft-mse-840000-ema-pruned.ckpt -d /content/stable-diffusion-webui/models/Stable-diffusion -o vae-ft-mse-840000-ema-pruned.vae.pt\n",
        "\n",
        "set_as_default = True  # @param {type: \"boolean\"}\n",
        "\n",
        "if set_as_default:\n",
        "    config = load_config()\n",
        "    config[\"sd_vae\"] = \"vae-ft-mse-840000-ema-pruned.vae.pt\"\n",
        "    save_config(config)\n"
      ],
      "metadata": {
        "cellView": "form",
        "id": "MM1de3xxx8dI"
      },
      "execution_count": null,
      "outputs": []
    },
    {
      "cell_type": "code",
      "source": [
        "#@markdown ### nai.vae.pt \n",
        "#@markdown Recommended för Abyss OrangeMix\n",
        "!aria2c --console-log-level=error -c -x 16 -s 16 -k 1M https://huggingface.co/WarriorMama777/OrangeMixs/resolve/main/VAEs/orangemix.vae.pt -d /content/stable-diffusion-webui/models/Stable-diffusion -o nai.vae.pt\n",
        "\n",
        "set_as_default = True  # @param {type: \"boolean\"}\n",
        "\n",
        "if set_as_default:\n",
        "    config = load_config()\n",
        "    config[\"sd_vae\"] = \"nai.vae.pt\"\n",
        "    save_config(config)\n"
      ],
      "metadata": {
        "cellView": "form",
        "id": "MVBdbFMZzGhZ"
      },
      "execution_count": null,
      "outputs": []
    },
    {
      "cell_type": "markdown",
      "source": [
        "## Diffusion models\n"
      ],
      "metadata": {
        "id": "GwcEMeq904jo"
      }
    },
    {
      "cell_type": "code",
      "source": [
        "#@markdown ### Stable diffusion 1.5\n",
        "#@markdown [Model README](https://huggingface.co/runwayml/stable-diffusion-v1-5)\\\n",
        "#@markdown Style: none\n",
        "!aria2c --console-log-level=error -c -x 16 -s 16 -k 1M https://huggingface.co/runwayml/stable-diffusion-v1-5/resolve/main/v1-5-pruned.safetensors -d /content/stable-diffusion-webui/models/Stable-diffusion -o v1-5-pruned.safetensors\n"
      ],
      "metadata": {
        "cellView": "form",
        "id": "5jZisGJz1PXw"
      },
      "execution_count": null,
      "outputs": []
    },
    {
      "cell_type": "code",
      "source": [
        "#@markdown ### GorynichMix\n",
        "#@markdown [Model README](https://civitai.com/models/4815/gorynichmix)\\\n",
        "#@markdown Style: anime\n",
        "!aria2c --console-log-level=error -c -x 16 -s 16 -k 1M https://civitai.com/api/download/models/5848 -d /content/stable-diffusion-webui/models/Stable-diffusion -o gorynichmix.safetensors\n"
      ],
      "metadata": {
        "cellView": "form",
        "id": "5HpQEku21WjB"
      },
      "execution_count": null,
      "outputs": []
    },
    {
      "cell_type": "code",
      "source": [
        "#@markdown ### Pastel Mix\n",
        "#@markdown [Model README](https://huggingface.co/andite/pastel-mix)\\\n",
        "#@markdown Style: anime\n",
        "!aria2c --console-log-level=error -c -x 16 -s 16 -k 1M https://huggingface.co/andite/pastel-mix/resolve/main/pastelmix-better-vae.safetensors -d /content/stable-diffusion-webui/models/Stable-diffusion -o pastelmix-better-vae.safetensors\n"
      ],
      "metadata": {
        "cellView": "form",
        "id": "lTP8h7SU1W6h"
      },
      "execution_count": null,
      "outputs": []
    },
    {
      "cell_type": "code",
      "source": [
        "#@markdown ### Abyss OrangeMix AOM3A3\n",
        "#@markdown [Model README](https://huggingface.co/WarriorMama777/OrangeMixs)\\\n",
        "#@markdown Style: anime\n",
        "!aria2c --console-log-level=error -c -x 16 -s 16 -k 1M https://huggingface.co/WarriorMama777/OrangeMixs/resolve/main/Models/AbyssOrangeMix3/AOM3A3_orangemixs.safetensors -d /content/stable-diffusion-webui/models/Stable-diffusion -o AOM3A3.safetensors\n"
      ],
      "metadata": {
        "cellView": "form",
        "id": "UXxdkF5C1Xev"
      },
      "execution_count": null,
      "outputs": []
    },
    {
      "cell_type": "code",
      "source": [
        "# @markdown ### Custom model\n",
        "\n",
        "# @markdown The url of the file you want to download\n",
        "model_url = \"https://huggingface.co/Linaqruf/anything-v3.0/blob/main/anything-v3-fp16-pruned.safetensors\" # @param {type: \"string\"}\n",
        "# @markdown The name of the file to be placed in the model directory, leave blank to have the script figure it out itself.\n",
        "model_filename = \"anything v3.safetensors\"  # @param {type: \"string\"}\n",
        "\n",
        "download_model_from_url(\n",
        "    model_url, \n",
        "    models_path=\"/content/stable-diffusion-webui/models/Stable-diffusion\", \n",
        "    model_filename=model_filename\n",
        ")"
      ],
      "metadata": {
        "cellView": "form",
        "id": "LetNm5jCUMhB"
      },
      "execution_count": null,
      "outputs": []
    },
    {
      "cell_type": "markdown",
      "source": [
        "## LoRA\n"
      ],
      "metadata": {
        "id": "p6xMwjsmxO03"
      }
    },
    {
      "cell_type": "code",
      "source": [
        "# @markdown ### Download model\n",
        "\n",
        "# @markdown The url of the file you want to download\n",
        "model_url = \"https://civitai.com/api/download/models/24617\" # @param {type: \"string\"}\n",
        "# @markdown The name of the file to be placed in the model directory, leave blank to have the script figure it out itself.\n",
        "model_filename = \"\"  # @param {type: \"string\"}\n",
        "\n",
        "download_model_from_url(\n",
        "    model_url, \n",
        "    models_path=\"/content/stable-diffusion-webui/models/Lora\", \n",
        "    model_filename=model_filename\n",
        ")"
      ],
      "metadata": {
        "cellView": "form",
        "id": "HiLBA57OohSc"
      },
      "execution_count": null,
      "outputs": []
    },
    {
      "cell_type": "markdown",
      "source": [
        "## Textual inversion\n"
      ],
      "metadata": {
        "id": "kyAAUi8txQUX"
      }
    },
    {
      "cell_type": "code",
      "source": [
        "# @markdown ### Download embedding\n",
        "\n",
        "# @markdown The url of the file you want to download\n",
        "model_url = \"https://huggingface.co/datasets/gsdf/EasyNegative/resolve/main/EasyNegative.safetensors\" # @param {type: \"string\"}\n",
        "# @markdown The name of the file to be placed in the model directory, leave blank to have the script figure it out itself.\n",
        "model_filename = \"\"  # @param {type: \"string\"}\n",
        "\n",
        "download_model_from_url(\n",
        "    model_url, \n",
        "    models_path=\"/content/stable-diffusion-webui/embeddings\", \n",
        "    model_filename=model_filename\n",
        ")"
      ],
      "metadata": {
        "cellView": "form",
        "id": "kNAjPB-zxQUY"
      },
      "execution_count": null,
      "outputs": []
    },
    {
      "cell_type": "markdown",
      "source": [
        "# Run WebUI"
      ],
      "metadata": {
        "id": "Z6Zuvfy53b1I"
      }
    },
    {
      "cell_type": "code",
      "source": [
        "#@markdown ## Launch\n",
        "%cd /content/stable-diffusion-webui\n",
        "!python launch.py --share --xformers --enable-insecure-extension-access --theme dark --gradio-queue --cloudfl"
      ],
      "metadata": {
        "id": "iPDaF3-k3ezB",
        "cellView": "form"
      },
      "execution_count": null,
      "outputs": []
    }
  ],
  "metadata": {
    "accelerator": "GPU",
    "colab": {
      "private_outputs": true,
      "provenance": [],
      "toc_visible": true,
      "include_colab_link": true
    },
    "gpuClass": "standard",
    "kernelspec": {
      "display_name": "Python 3",
      "name": "python3"
    },
    "language_info": {
      "name": "python"
    }
  },
  "nbformat": 4,
  "nbformat_minor": 0
}
