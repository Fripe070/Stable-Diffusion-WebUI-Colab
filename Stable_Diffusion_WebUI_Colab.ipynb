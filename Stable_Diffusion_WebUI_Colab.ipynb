{
  "cells": [
    {
      "cell_type": "markdown",
      "metadata": {
        "colab_type": "text",
        "id": "view-in-github"
      },
      "source": [
        "<a href=\"https://colab.research.google.com/github/Fripe070/Stable-Diffusion-WebUI-Colab/blob/main/Stable_Diffusion_WebUI_Colab.ipynb\" target=\"_parent\"><img src=\"https://colab.research.google.com/assets/colab-badge.svg\" alt=\"Open In Colab\"/></a>"
      ]
    },
    {
      "cell_type": "markdown",
      "metadata": {
        "id": "kWR_e4tbvVU4"
      },
      "source": [
        "# Install\n"
      ]
    },
    {
      "cell_type": "markdown",
      "metadata": {
        "id": "aUwJgmO8TWWG"
      },
      "source": [
        "## General setup\n"
      ]
    },
    {
      "cell_type": "code",
      "execution_count": null,
      "metadata": {
        "cellView": "form",
        "id": "g-G_1U9twOi4"
      },
      "outputs": [],
      "source": [
        "#@markdown ## Initial setup\n",
        "\n",
        "import os\n",
        "from google.colab.output import eval_js\n",
        "os.environ['colab_url'] = eval_js(\"google.colab.kernel.proxyPort(7860, {'cache': false})\")\n",
        "\n",
        "!apt -qq -y update &>/dev/null\n",
        "!wget -nv http://launchpadlibrarian.net/367274644/libgoogle-perftools-dev_2.5-2.2ubuntu3_amd64.deb\n",
        "!wget -nv https://launchpad.net/ubuntu/+source/google-perftools/2.5-2.2ubuntu3/+build/14795286/+files/google-perftools_2.5-2.2ubuntu3_all.deb\n",
        "!wget -nv https://launchpad.net/ubuntu/+source/google-perftools/2.5-2.2ubuntu3/+build/14795286/+files/libtcmalloc-minimal4_2.5-2.2ubuntu3_amd64.deb\n",
        "!wget -nv https://launchpad.net/ubuntu/+source/google-perftools/2.5-2.2ubuntu3/+build/14795286/+files/libgoogle-perftools4_2.5-2.2ubuntu3_amd64.deb\n",
        "!apt -qq install libunwind8-dev &>/dev/null\n",
        "!dpkg -i *.deb &>/dev/null\n",
        "%env LD_PRELOAD=libtcmalloc.so\n",
        "!rm *.deb\n",
        "\n",
        "!pip install torch==1.13.1+cu116 torchvision==0.14.1+cu116 torchaudio==0.13.1 --extra-index-url https://download.pytorch.org/whl/cu116 -U\n",
        "!apt -qq -y install aria2 &>/dev/null\n",
        "!apt -qq install unzip &>/dev/null\n",
        "!pip install -q xformers==0.0.16\n",
        "!pip install -q triton==2.0.0\n",
        "!pip install -q requests\n"
      ]
    },
    {
      "cell_type": "code",
      "execution_count": null,
      "metadata": {
        "cellView": "form",
        "id": "t3dEJxivExZ5"
      },
      "outputs": [],
      "source": [
        "#@markdown ## Download WebUI\n",
        "\n",
        "#!git clone -b v2.0 https://github.com/camenduru/stable-diffusion-webui\n",
        "!git clone https://github.com/AUTOMATIC1111/stable-diffusion-webui\n",
        "%cd /content/stable-diffusion-webui\n"
      ]
    },
    {
      "cell_type": "code",
      "source": [
        "#@markdown ## Fix stuff\n",
        "# I have absolutely 0 clue why this is here but it's probably important lmao\n",
        "!sed -i -e '''/    prepare_environment()/a\\    os.system\\(f\\\"\"\"sed -i -e ''\\\"s/dict()))/dict())).cuda()/g\\\"'' /content/stable-diffusion-webui/repositories/stable-diffusion-stability-ai/ldm/util.py\"\"\")''' /content/stable-diffusion-webui/launch.py\n"
      ],
      "metadata": {
        "cellView": "form",
        "id": "ABM5xWFT7_i2"
      },
      "execution_count": null,
      "outputs": []
    },
    {
      "cell_type": "code",
      "execution_count": null,
      "metadata": {
        "cellView": "form",
        "id": "_vWBBTOFNfK8"
      },
      "outputs": [],
      "source": [
        "#@markdown ## Define helper functions\n",
        "import json\n",
        "import re\n",
        "import shlex\n",
        "import subprocess\n",
        "import requests\n",
        "from pathlib import Path\n",
        "from typing import Union\n",
        "from urllib.parse import unquote_plus, urlparse\n",
        "\n",
        "config_path = Path(\"/content/stable-diffusion-webui/config.json\")\n",
        "ui_config_path = Path(\"/content/stable-diffusion-webui/ui-config.json\")\n",
        "\n",
        "\n",
        "def load_config() -> dict:\n",
        "    with open(config_path, \"r\") as file:\n",
        "        return json.load(file)\n",
        "\n",
        "\n",
        "def save_config(config: dict, /) -> None:\n",
        "    with open(config_path, \"w\") as file:\n",
        "        json.dump(config, file)\n",
        "\n",
        "\n",
        "def load_sd_config() -> dict:\n",
        "    with open(ui_config_path, \"r\") as file:\n",
        "        return json.load(file)\n",
        "\n",
        "\n",
        "def save_ui_config(ui_config: dict, /) -> None:\n",
        "    with open(ui_config_path, \"w\") as file:\n",
        "        json.dump(ui_config, file)\n",
        "\n",
        "\n",
        "class Model:\n",
        "    def __init__(\n",
        "            self,\n",
        "            *,\n",
        "            name: str,\n",
        "            filename: str,\n",
        "            download_url: str\n",
        "        ) -> None:\n",
        "        self.name = name\n",
        "        self.filename = filename\n",
        "        self.download_url = download_url\n",
        "\n",
        "\n",
        "    def download(self, models_path: Union[Path, str], *, name: Union[str, None] = None) -> None:\n",
        "        filename = name.strip().replace(\" \", \"-\") if name else self.filename\n",
        "        save_to = Path(models_path) / filename\n",
        "        cmd = shlex.split(\n",
        "            (\n",
        "                f'aria2c --console-log-level=error -c -x 16 -s 16 -k 1M '\n",
        "                f'\"{self.download_url}\" '\n",
        "                f'-d \"{save_to.parent}\" '\n",
        "                f'-o \"{save_to.name}\"'\n",
        "            )\n",
        "        )\n",
        "\n",
        "        print(f\"Saving model to: {save_to}\")\n",
        "\n",
        "        proccess = subprocess.run(cmd)\n",
        "        if proccess.returncode != 0:\n",
        "            raise RuntimeError(f\"Failed to download model: {self.filename}\")\n",
        "\n",
        "        print(\"Model downloaded\")\n",
        "\n",
        "\n",
        "class CivitaiModel(Model):\n",
        "    def __init__(\n",
        "            self,\n",
        "            *,\n",
        "            id: int,\n",
        "            name: str,\n",
        "            filename: str,\n",
        "            download_url: str\n",
        "        ) -> None:\n",
        "        super().__init__(name=name, filename=filename, download_url=download_url)\n",
        "        self.id = id\n",
        "\n",
        "    @staticmethod\n",
        "    def _id_from_url(url: str) -> int:\n",
        "        parsed_url = urlparse(unquote_plus(url))\n",
        "        if match := re.search(r\"models/(\\d+)\", parsed_url.path):\n",
        "            return int(match.groups()[0])\n",
        "        else:\n",
        "            raise ValueError(f\"Can't find model ID in URL: {url}\")\n",
        "\n",
        "    @classmethod\n",
        "    def from_model_page_url(cls, page_url: str) -> \"CivitaiModel\":\n",
        "        model_id = cls._id_from_url(page_url)\n",
        "        model_data = requests.get(f\"https://civitai.com/api/v1/models/{model_id}\").json()\n",
        "        file = model_data[\"modelVersions\"][0][\"files\"][0]\n",
        "\n",
        "        return cls(\n",
        "            id=model_data[\"id\"],\n",
        "            name=model_data[\"name\"],\n",
        "            filename=file[\"name\"],\n",
        "            download_url=file[\"downloadUrl\"]\n",
        "        )\n",
        "\n",
        "    @classmethod\n",
        "    def from_download_url(cls, download_url: str) -> \"CivitaiModel\":\n",
        "        model_id = cls._id_from_url(download_url)\n",
        "        model_data = requests.get(f\"https://civitai.com/api/v1/model-versions/{model_id}\").json()\n",
        "        file = model_data[\"files\"][0]\n",
        "\n",
        "        return cls(\n",
        "            id=model_data[\"modelId\"],\n",
        "            name=model_data[\"model\"][\"name\"],\n",
        "            filename=file[\"name\"],\n",
        "            download_url=file[\"downloadUrl\"]\n",
        "        )\n",
        "\n",
        "\n",
        "def model_from_url(url: str) -> Union[Model, CivitaiModel]:\n",
        "    parsed_url = urlparse(unquote_plus(url))\n",
        "\n",
        "    if parsed_url.hostname == \"civitai.com\":\n",
        "        if parsed_url.path.startswith(\"/api/download/\"):\n",
        "            return CivitaiModel.from_download_url(url)\n",
        "        elif parsed_url.path.startswith(\"/models/\"):\n",
        "            return CivitaiModel.from_model_page_url(url)\n",
        "        \n",
        "    return Model(\n",
        "        name=Path(parsed_url.path).stem,\n",
        "        filename=Path(parsed_url.path).name,\n",
        "        download_url=url\n",
        "    )"
      ]
    },
    {
      "cell_type": "code",
      "execution_count": null,
      "metadata": {
        "cellView": "form",
        "id": "DwFeowbyy3Tn"
      },
      "outputs": [],
      "source": [
        "#@markdown ## Set default config values\n",
        "save_ui_config(\n",
        "    {\n",
        "        \"txt2img/Sampling steps/value\": 50,\n",
        "        \"img2img/Sampling steps/value\": 50,\n",
        "    }\n",
        ")\n",
        "save_config(\n",
        "    {\n",
        "        \"show_progress_every_n_steps\": 2,\n",
        "        \"live_preview_refresh_period\": 20.0,\n",
        "    }\n",
        ")\n"
      ]
    },
    {
      "cell_type": "code",
      "execution_count": null,
      "metadata": {
        "cellView": "form",
        "id": "0ZemlUoksWcg"
      },
      "outputs": [],
      "source": [
        "#@markdown ## Download extensions\n",
        "\n",
        "# Extensions\n",
        "!wget -q https://raw.githubusercontent.com/camenduru/stable-diffusion-webui-scripts/main/run_n_times.py -O /content/stable-diffusion-webui/scripts/run_n_times.py\n",
        "!git clone https://github.com/AlUlkesh/stable-diffusion-webui-images-browser /content/stable-diffusion-webui/extensions/stable-diffusion-webui-images-browser -q\n",
        "!git clone https://github.com/kohya-ss/sd-webui-additional-networks /content/stable-diffusion-webui/extensions/sd-webui-additional-networks -q\n",
        "!git clone https://github.com/camenduru/sd-webui-tunnels /content/stable-diffusion-webui/extensions/sd-webui-tunnels -q\n",
        "\n",
        "# Extensions added by fripe\n",
        "!git clone https://github.com/alemelis/sd-webui-ar.git /content/stable-diffusion-webui/extensions/sd-webui-ar -q\n",
        "!git clone https://github.com/toriato/stable-diffusion-webui-wd14-tagger.git /content/stable-diffusion-webui/extensions/stable-diffusion-webui-wd14-tagger -q\n",
        "!git clone https://github.com/dfaker/SD-latent-mirroring.git /content/stable-diffusion-webui/extensions/SD-latent-mirroring -q\n"
      ]
    },
    {
      "cell_type": "markdown",
      "metadata": {
        "id": "R8jDcYpbOYCs"
      },
      "source": [
        "## Other extensions\n",
        "You may not need/want all these, so you can pick and choose induvidualy.\n"
      ]
    },
    {
      "cell_type": "code",
      "execution_count": null,
      "metadata": {
        "cellView": "form",
        "id": "A3A07J_vv_DY"
      },
      "outputs": [],
      "source": [
        "#@markdown ### [ControlNet Extension](https://github.com/Mikubill/sd-webui-controlnet)\n",
        "#@markdown Allows extra control of generated images, by enforcing certain constraints\n",
        "\n",
        "# Extensions\n",
        "!git clone https://github.com/Mikubill/sd-webui-controlnet /content/stable-diffusion-webui/extensions/sd-webui-controlnet -q\n",
        "!git clone https://github.com/camenduru/openpose-editor /content/stable-diffusion-webui/extensions/openpose-editor -q\n",
        "!git clone https://github.com/jexom/sd-webui-depth-lib /content/stable-diffusion-webui/extensions/sd-webui-depth-lib -q\n",
        "!git clone https://github.com/hnmr293/posex /content/stable-diffusion-webui/extensions/posex -q\n",
        "\n",
        "#M Models\n",
        "!aria2c --console-log-level=error -c -x 16 -s 16 -k 1M https://huggingface.co/ckpt/ControlNet/resolve/main/control_canny-fp16.safetensors -d /content/stable-diffusion-webui/extensions/sd-webui-controlnet/models -o control_canny-fp16.safetensors\n",
        "!aria2c --console-log-level=error -c -x 16 -s 16 -k 1M https://huggingface.co/ckpt/ControlNet/resolve/main/control_depth-fp16.safetensors -d /content/stable-diffusion-webui/extensions/sd-webui-controlnet/models -o control_depth-fp16.safetensors\n",
        "!aria2c --console-log-level=error -c -x 16 -s 16 -k 1M https://huggingface.co/ckpt/ControlNet/resolve/main/control_hed-fp16.safetensors -d /content/stable-diffusion-webui/extensions/sd-webui-controlnet/models -o control_hed-fp16.safetensors\n",
        "!aria2c --console-log-level=error -c -x 16 -s 16 -k 1M https://huggingface.co/ckpt/ControlNet/resolve/main/control_mlsd-fp16.safetensors -d /content/stable-diffusion-webui/extensions/sd-webui-controlnet/models -o control_mlsd-fp16.safetensors\n",
        "!aria2c --console-log-level=error -c -x 16 -s 16 -k 1M https://huggingface.co/ckpt/ControlNet/resolve/main/control_normal-fp16.safetensors -d /content/stable-diffusion-webui/extensions/sd-webui-controlnet/models -o control_normal-fp16.safetensors\n",
        "!aria2c --console-log-level=error -c -x 16 -s 16 -k 1M https://huggingface.co/ckpt/ControlNet/resolve/main/control_openpose-fp16.safetensors -d /content/stable-diffusion-webui/extensions/sd-webui-controlnet/models -o control_openpose-fp16.safetensors\n",
        "!aria2c --console-log-level=error -c -x 16 -s 16 -k 1M https://huggingface.co/ckpt/ControlNet/resolve/main/control_scribble-fp16.safetensors -d /content/stable-diffusion-webui/extensions/sd-webui-controlnet/models -o control_scribble-fp16.safetensors\n",
        "!aria2c --console-log-level=error -c -x 16 -s 16 -k 1M https://huggingface.co/ckpt/ControlNet/resolve/main/control_seg-fp16.safetensors -d /content/stable-diffusion-webui/extensions/sd-webui-controlnet/models -o control_seg-fp16.safetensors\n",
        "!aria2c --console-log-level=error -c -x 16 -s 16 -k 1M https://huggingface.co/ckpt/ControlNet/resolve/main/hand_pose_model.pth -d /content/stable-diffusion-webui/extensions/sd-webui-controlnet/annotator/openpose -o hand_pose_model.pth\n",
        "!aria2c --console-log-level=error -c -x 16 -s 16 -k 1M https://huggingface.co/ckpt/ControlNet/resolve/main/body_pose_model.pth -d /content/stable-diffusion-webui/extensions/sd-webui-controlnet/annotator/openpose -o body_pose_model.pth\n",
        "!aria2c --console-log-level=error -c -x 16 -s 16 -k 1M https://huggingface.co/ckpt/ControlNet/resolve/main/dpt_hybrid-midas-501f0c75.pt -d /content/stable-diffusion-webui/extensions/sd-webui-controlnet/annotator/midas -o dpt_hybrid-midas-501f0c75.pt\n",
        "!aria2c --console-log-level=error -c -x 16 -s 16 -k 1M https://huggingface.co/ckpt/ControlNet/resolve/main/mlsd_large_512_fp32.pth -d /content/stable-diffusion-webui/extensions/sd-webui-controlnet/annotator/mlsd -o mlsd_large_512_fp32.pth\n",
        "!aria2c --console-log-level=error -c -x 16 -s 16 -k 1M https://huggingface.co/ckpt/ControlNet/resolve/main/mlsd_tiny_512_fp32.pth -d /content/stable-diffusion-webui/extensions/sd-webui-controlnet/annotator/mlsd -o mlsd_tiny_512_fp32.pth\n",
        "!aria2c --console-log-level=error -c -x 16 -s 16 -k 1M https://huggingface.co/ckpt/ControlNet/resolve/main/network-bsds500.pth -d /content/stable-diffusion-webui/extensions/sd-webui-controlnet/annotator/hed -o network-bsds500.pth\n",
        "!aria2c --console-log-level=error -c -x 16 -s 16 -k 1M https://huggingface.co/ckpt/ControlNet/resolve/main/upernet_global_small.pth -d /content/stable-diffusion-webui/extensions/sd-webui-controlnet/annotator/uniformer -o upernet_global_small.pth\n",
        "!aria2c --console-log-level=error -c -x 16 -s 16 -k 1M https://huggingface.co/ckpt/ControlNet/resolve/main/t2iadapter_style_sd14v1.pth -d /content/stable-diffusion-webui/extensions/sd-webui-controlnet/models -o t2iadapter_style_sd14v1.pth\n",
        "!aria2c --console-log-level=error -c -x 16 -s 16 -k 1M https://huggingface.co/ckpt/ControlNet/resolve/main/t2iadapter_sketch_sd14v1.pth -d /content/stable-diffusion-webui/extensions/sd-webui-controlnet/models -o t2iadapter_sketch_sd14v1.pth\n",
        "!aria2c --console-log-level=error -c -x 16 -s 16 -k 1M https://huggingface.co/ckpt/ControlNet/resolve/main/t2iadapter_seg_sd14v1.pth -d /content/stable-diffusion-webui/extensions/sd-webui-controlnet/models -o t2iadapter_seg_sd14v1.pth\n",
        "!aria2c --console-log-level=error -c -x 16 -s 16 -k 1M https://huggingface.co/ckpt/ControlNet/resolve/main/t2iadapter_openpose_sd14v1.pth -d /content/stable-diffusion-webui/extensions/sd-webui-controlnet/models -o t2iadapter_openpose_sd14v1.pth\n",
        "!aria2c --console-log-level=error -c -x 16 -s 16 -k 1M https://huggingface.co/ckpt/ControlNet/resolve/main/t2iadapter_keypose_sd14v1.pth -d /content/stable-diffusion-webui/extensions/sd-webui-controlnet/models -o t2iadapter_keypose_sd14v1.pth\n",
        "!aria2c --console-log-level=error -c -x 16 -s 16 -k 1M https://huggingface.co/ckpt/ControlNet/resolve/main/t2iadapter_depth_sd14v1.pth -d /content/stable-diffusion-webui/extensions/sd-webui-controlnet/models -o t2iadapter_depth_sd14v1.pth\n",
        "!aria2c --console-log-level=error -c -x 16 -s 16 -k 1M https://huggingface.co/ckpt/ControlNet/resolve/main/t2iadapter_color_sd14v1.pth -d /content/stable-diffusion-webui/extensions/sd-webui-controlnet/models -o t2iadapter_color_sd14v1.pth\n",
        "!aria2c --console-log-level=error -c -x 16 -s 16 -k 1M https://huggingface.co/ckpt/ControlNet/resolve/main/t2iadapter_canny_sd14v1.pth -d /content/stable-diffusion-webui/extensions/sd-webui-controlnet/models -o t2iadapter_canny_sd14v1.pth\n"
      ]
    },
    {
      "cell_type": "code",
      "execution_count": null,
      "metadata": {
        "cellView": "form",
        "id": "JFysDgw-VyYo"
      },
      "outputs": [],
      "source": [
        "#@markdown ### [Deforum Extension](https://github.com/deforum-art/deforum-for-automatic1111-webui)\n",
        "#@markdown Allows for creating interesting animations transitioning between multiple prompts or other parameters. \n",
        "!git clone https://github.com/deforum-art/deforum-for-automatic1111-webui /content/stable-diffusion-webui/extensions/deforum-for-automatic1111-webui -q\n"
      ]
    },
    {
      "cell_type": "code",
      "execution_count": null,
      "metadata": {
        "cellView": "form",
        "id": "FkEdd3EjPBff"
      },
      "outputs": [],
      "source": [
        "#@markdown ### [Booru tag autocompletion](https://github.com/DominikDoom/a1111-sd-webui-tagcomplete)\n",
        "#@markdown Provides borru tag completion in the prompt input box\n",
        "!git clone https://github.com/DominikDoom/a1111-sd-webui-tagcomplete.git /content/stable-diffusion-webui/extensions/tag-autocomplete -q\n"
      ]
    },
    {
      "cell_type": "code",
      "execution_count": null,
      "metadata": {
        "cellView": "form",
        "id": "7kYn21YdSZoQ"
      },
      "outputs": [],
      "source": [
        "#@markdown ### [Stable Diffusion Webui Inspiration](https://github.com/yfszzx/stable-diffusion-webui-inspiration)\n",
        "#@markdown Adds an artstyle moodboard\n",
        "!git clone https://github.com/yfszzx/stable-diffusion-webui-inspiration.git /content/stable-diffusion-webui/extensions/stable-diffusion-webui-inspiration -q\n",
        "\n",
        "# Image dataset\n",
        "!aria2c --console-log-level=error -c -x 16 -s 16 -k 1M https://huggingface.co/datasets/yfszzx/inspiration/resolve/main/inspiration.zip -d /content/stable-diffusion-webui/extensions/stable-diffusion-webui-inspiration/ -o inspiration.zip\n",
        "!unzip -qoO UTF-8 /content/stable-diffusion-webui/extensions/stable-diffusion-webui-inspiration/inspiration.zip -d /content/stable-diffusion-webui/extensions/stable-diffusion-webui-inspiration/\n",
        "!rm /content/stable-diffusion-webui/extensions/stable-diffusion-webui-inspiration/inspiration.zip\n"
      ]
    },
    {
      "cell_type": "code",
      "execution_count": null,
      "metadata": {
        "cellView": "form",
        "id": "7d4P7oAYNk2G"
      },
      "outputs": [],
      "source": [
        "#@markdown ### [Dreambooth Extension](https://github.com/d8ahazard/sd_dreambooth_extension)\n",
        "#@markdown Adds a tab allowing you tu use dreambooth to train models on specific people/objects/styles \n",
        "!git clone https://github.com/d8ahazard/sd_dreambooth_extension.git /content/stable-diffusion-webui/extensions/sd_dreambooth_extension -q\n"
      ]
    },
    {
      "cell_type": "code",
      "execution_count": null,
      "metadata": {
        "cellView": "form",
        "id": "-8XgupNtR6-7"
      },
      "outputs": [],
      "source": [
        "#@markdown ### [Stable Diffusion Civitai Browser](https://github.com/camenduru/sd-civitai-browser)\n",
        "#@markdown An extension to browse Civitai for models\n",
        "!git clone -b v2.0 https://github.com/camenduru/sd-civitai-browser /content/stable-diffusion-webui/extensions/sd-civitai-browser -q\n"
      ]
    },
    {
      "cell_type": "code",
      "execution_count": null,
      "metadata": {
        "cellView": "form",
        "id": "v_SnQPM2RqOx"
      },
      "outputs": [],
      "source": [
        "#@markdown ### [Steps Animation](https://github.com/vladmandic/sd-extension-steps-animation)\n",
        "#@markdown An extension to create an animation from the sampling steps in your image generation\n",
        "!git clone https://github.com/vladmandic/sd-extension-steps-animation.git /content/stable-diffusion-webui/extensions/sd-extension-steps-animation -q\n"
      ]
    },
    {
      "cell_type": "code",
      "execution_count": null,
      "metadata": {
        "cellView": "form",
        "id": "yGbniE-JyZMh"
      },
      "outputs": [],
      "source": [
        "#@markdown ### [Latent Couple](https://github.com/opparco/stable-diffusion-webui-two-shot)\n",
        "#@markdown Allows including subprompts mapped to different areas of the output image\n",
        "!git clone https://github.com/opparco/stable-diffusion-webui-two-shot /content/stable-diffusion-webui/extensions/stable-diffusion-webui-two-shot -q\n"
      ]
    },
    {
      "cell_type": "markdown",
      "metadata": {
        "id": "9Ki8EHONyDqY"
      },
      "source": [
        "# Download models\n",
        "You most likely **don't** want to run this entire block, instead pick and choose induvidial models to download."
      ]
    },
    {
      "cell_type": "markdown",
      "metadata": {
        "id": "K40Ih0u1yUmI"
      },
      "source": [
        "## VAE"
      ]
    },
    {
      "cell_type": "markdown",
      "metadata": {
        "id": "nk0H11lCNSDn"
      },
      "source": [
        "> The VAE encoder compresses the image from pixel space to a smaller dimensional latent space, capturing a more fundamental semantic meaning of the image.\n",
        "\n",
        "\\- [Stable Diffusion Architeture - Wikipedia](https://en.wikipedia.org/wiki/Stable_Diffusion#Architecture)"
      ]
    },
    {
      "cell_type": "code",
      "execution_count": null,
      "metadata": {
        "cellView": "form",
        "id": "MM1de3xxx8dI"
      },
      "outputs": [],
      "source": [
        "#@markdown ### vae-ft-mse-840000-ema-pruned \n",
        "#@markdown Recommended för GorynichMix\n",
        "!aria2c --console-log-level=error -c -x 16 -s 16 -k 1M https://huggingface.co/stabilityai/sd-vae-ft-mse-original/resolve/main/vae-ft-mse-840000-ema-pruned.ckpt -d /content/stable-diffusion-webui/models/Stable-diffusion -o vae-ft-mse-840000-ema-pruned.vae.pt\n",
        "\n",
        "set_as_default = True  # @param {type: \"boolean\"}\n",
        "\n",
        "if set_as_default:\n",
        "    config = load_config()\n",
        "    config[\"sd_vae\"] = \"vae-ft-mse-840000-ema-pruned.vae.pt\"\n",
        "    save_config(config)\n"
      ]
    },
    {
      "cell_type": "code",
      "execution_count": null,
      "metadata": {
        "cellView": "form",
        "id": "MVBdbFMZzGhZ"
      },
      "outputs": [],
      "source": [
        "#@markdown ### nai.vae.pt \n",
        "#@markdown Recommended för Abyss OrangeMix\n",
        "!aria2c --console-log-level=error -c -x 16 -s 16 -k 1M https://huggingface.co/WarriorMama777/OrangeMixs/resolve/main/VAEs/orangemix.vae.pt -d /content/stable-diffusion-webui/models/Stable-diffusion -o nai.vae.pt\n",
        "\n",
        "set_as_default = True  # @param {type: \"boolean\"}\n",
        "\n",
        "if set_as_default:\n",
        "    config = load_config()\n",
        "    config[\"sd_vae\"] = \"nai.vae.pt\"\n",
        "    save_config(config)\n"
      ]
    },
    {
      "cell_type": "markdown",
      "metadata": {
        "id": "GwcEMeq904jo"
      },
      "source": [
        "## Diffusion model\n"
      ]
    },
    {
      "cell_type": "code",
      "execution_count": null,
      "metadata": {
        "cellView": "form",
        "id": "5jZisGJz1PXw"
      },
      "outputs": [],
      "source": [
        "#@markdown ### Stable diffusion 1.5\n",
        "#@markdown [Model README](https://huggingface.co/runwayml/stable-diffusion-v1-5)\\\n",
        "#@markdown Style: none\n",
        "model_from_url(\n",
        "    \"https://huggingface.co/runwayml/stable-diffusion-v1-5/resolve/main/v1-5-pruned.safetensors\"\n",
        ").download(\n",
        "    \"/content/stable-diffusion-webui/models/Stable-diffusion\",\n",
        "    name=\"stable_diffusion_v1-5.safetensors\"\n",
        ")"
      ]
    },
    {
      "cell_type": "code",
      "execution_count": null,
      "metadata": {
        "cellView": "form",
        "id": "5HpQEku21WjB"
      },
      "outputs": [],
      "source": [
        "#@markdown ### GorynichMix\n",
        "#@markdown [Model README](https://civitai.com/models/4815/gorynichmix)\\\n",
        "#@markdown Style: anime\n",
        "model_from_url(\n",
        "    \"https://civitai.com/api/download/models/5848\"\n",
        ").download(\n",
        "    \"/content/stable-diffusion-webui/models/Stable-diffusion\"\n",
        ")"
      ]
    },
    {
      "cell_type": "code",
      "execution_count": null,
      "metadata": {
        "cellView": "form",
        "id": "lTP8h7SU1W6h"
      },
      "outputs": [],
      "source": [
        "#@markdown ### Pastel Mix\n",
        "#@markdown [Model README](https://huggingface.co/andite/pastel-mix)\\\n",
        "#@markdown Style: anime\n",
        "model_from_url(\n",
        "    \"https://huggingface.co/andite/pastel-mix/resolve/main/pastelmix-better-vae.safetensors\"\n",
        ").download(\n",
        "    \"/content/stable-diffusion-webui/models/Stable-diffusion\"\n",
        ")"
      ]
    },
    {
      "cell_type": "code",
      "execution_count": null,
      "metadata": {
        "cellView": "form",
        "id": "UXxdkF5C1Xev"
      },
      "outputs": [],
      "source": [
        "#@markdown ### Abyss OrangeMix AOM3A3\n",
        "#@markdown [Model README](https://huggingface.co/WarriorMama777/OrangeMixs)\\\n",
        "#@markdown Style: anime\n",
        "model_from_url(\n",
        "    \"https://huggingface.co/WarriorMama777/OrangeMixs/resolve/main/Models/AbyssOrangeMix3/AOM3A3_orangemixs.safetensors\"\n",
        ").download(\n",
        "    \"/content/stable-diffusion-webui/models/Stable-diffusion\"\n",
        ")"
      ]
    },
    {
      "cell_type": "code",
      "execution_count": null,
      "metadata": {
        "cellView": "form",
        "id": "uwpIpVAmuK0M"
      },
      "outputs": [],
      "source": [
        "#@markdown ### Realistic Vision V1.4\n",
        "#@markdown [Model README](https://huggingface.co/SG161222/Realistic_Vision_V1.4)\\\n",
        "#@markdown Style: realistic\n",
        "model_from_url(\n",
        "    \"https://huggingface.co/SG161222/Realistic_Vision_V1.4/resolve/main/Realistic_Vision_V1.4-pruned-fp16.safetensors\"\n",
        ").download(\n",
        "    \"/content/stable-diffusion-webui/models/Stable-diffusion\"\n",
        ")"
      ]
    },
    {
      "cell_type": "code",
      "execution_count": null,
      "metadata": {
        "cellView": "form",
        "id": "LetNm5jCUMhB"
      },
      "outputs": [],
      "source": [
        "# @markdown ### Custom model\n",
        "\n",
        "# @markdown The url of the file you want to download\n",
        "model_url = \"https://huggingface.co/andite/anything-v4.0/resolve/main/anything-v4.5-pruned.safetensors\" # @param {type: \"string\"}\n",
        "# @markdown The name of the file to be placed in the model directory, leave blank to have the script figure it out itself.\n",
        "model_filename = \"anything v4.5.safetensors\"  # @param {type: \"string\"}\n",
        "\n",
        "model_from_url(model_url).download(\n",
        "    models_path=\"/content/stable-diffusion-webui/models/Stable-diffusion\", \n",
        "    name=model_filename\n",
        ")"
      ]
    },
    {
      "cell_type": "markdown",
      "metadata": {
        "id": "p6xMwjsmxO03"
      },
      "source": [
        "## LoRA\n"
      ]
    },
    {
      "cell_type": "code",
      "execution_count": null,
      "metadata": {
        "cellView": "form",
        "id": "HiLBA57OohSc"
      },
      "outputs": [],
      "source": [
        "# @markdown ### Download model\n",
        "\n",
        "# @markdown The url of the file you want to download\n",
        "model_url = \"https://civitai.com/api/download/models/24617\" # @param {type: \"string\"}\n",
        "# @markdown The name of the file to be placed in the model directory, leave blank to have the script figure it out itself.\n",
        "model_filename = \"\"  # @param {type: \"string\"}\n",
        "\n",
        "model_from_url(model_url).download(\n",
        "    models_path=\"/content/stable-diffusion-webui/models/Lora\", \n",
        "    name=model_filename\n",
        ")"
      ]
    },
    {
      "cell_type": "markdown",
      "metadata": {
        "id": "kyAAUi8txQUX"
      },
      "source": [
        "## Textual inversion\n"
      ]
    },
    {
      "cell_type": "code",
      "execution_count": null,
      "metadata": {
        "cellView": "form",
        "id": "kNAjPB-zxQUY"
      },
      "outputs": [],
      "source": [
        "# @markdown ### Download embedding\n",
        "\n",
        "# @markdown The url of the file you want to download\n",
        "model_url = \"https://huggingface.co/datasets/gsdf/EasyNegative/resolve/main/EasyNegative.safetensors\" # @param {type: \"string\"}\n",
        "# @markdown The name of the file to be placed in the model directory, leave blank to have the script figure it out itself.\n",
        "model_filename = \"\"  # @param {type: \"string\"}\n",
        "\n",
        "model_from_url(model_url).download(\n",
        "    models_path=\"/content/stable-diffusion-webui/embeddings\", \n",
        "    name=model_filename\n",
        ")"
      ]
    },
    {
      "cell_type": "markdown",
      "metadata": {
        "id": "Z6Zuvfy53b1I"
      },
      "source": [
        "# Run WebUI"
      ]
    },
    {
      "cell_type": "code",
      "execution_count": null,
      "metadata": {
        "cellView": "form",
        "id": "iPDaF3-k3ezB"
      },
      "outputs": [],
      "source": [
        "#@markdown ## Launch\n",
        "%cd /content/stable-diffusion-webui\n",
        "!python launch.py --share --xformers --enable-insecure-extension-access --theme dark --gradio-queue --cloudfl"
      ]
    }
  ],
  "metadata": {
    "accelerator": "GPU",
    "colab": {
      "include_colab_link": true,
      "private_outputs": true,
      "provenance": [],
      "toc_visible": true
    },
    "gpuClass": "standard",
    "kernelspec": {
      "display_name": "Python 3",
      "name": "python3"
    },
    "language_info": {
      "name": "python"
    }
  },
  "nbformat": 4,
  "nbformat_minor": 0
}
